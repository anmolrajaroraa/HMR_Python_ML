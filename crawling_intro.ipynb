{
 "cells": [
  {
   "cell_type": "code",
   "execution_count": 18,
   "metadata": {},
   "outputs": [],
   "source": [
    "import bs4\n",
    "import urllib.request as req\n",
    "#from urllib import request as req"
   ]
  },
  {
   "cell_type": "code",
   "execution_count": 22,
   "metadata": {},
   "outputs": [],
   "source": [
    "httpResponse = req.urlopen('https://www.flipkart.com/audio-video/pr?sid=0pm&offer=nb:mp:05e9ef6621&fm=neo%2Fmerchandising&iid=M_ca7162a5-df40-4e74-b652-29f2509e1b75_2.OV3TV244UTKP&otracker=hp_omu_Deals%2Bof%2Bthe%2BDay_1_2.dealCard.OMU_OV3TV244UTKP_2&otracker1=hp_omu_PINNED_neo%2Fmerchandising_Deals%2Bof%2Bthe%2BDay_NA_dealCard_cc_1_NA_view-all_2&cid=OV3TV244UTKP')"
   ]
  },
  {
   "cell_type": "code",
   "execution_count": 23,
   "metadata": {},
   "outputs": [
    {
     "data": {
      "text/plain": [
       "<http.client.HTTPResponse at 0x10f581fd0>"
      ]
     },
     "execution_count": 23,
     "metadata": {},
     "output_type": "execute_result"
    }
   ],
   "source": [
    "httpResponse"
   ]
  },
  {
   "cell_type": "code",
   "execution_count": 24,
   "metadata": {},
   "outputs": [],
   "source": [
    "page = bs4.BeautifulSoup(httpResponse)"
   ]
  },
  {
   "cell_type": "code",
   "execution_count": 27,
   "metadata": {},
   "outputs": [],
   "source": [
    "a = page.find('a',class_=\"_2cLu-l\")"
   ]
  },
  {
   "cell_type": "code",
   "execution_count": 28,
   "metadata": {},
   "outputs": [
    {
     "data": {
      "text/plain": [
       "<a class=\"_2cLu-l\" href=\"/boat-rockerz-510-super-extra-bass-bluetooth-headset-mic/p/itmf3vhgvymtjqhx?pid=ACCEZB5QGQBDWVWD&amp;lid=LSTACCEZB5QGQBDWVWDH4MY6X&amp;marketplace=FLIPKART&amp;srno=b_1_1&amp;otracker=hp_omu_Deals%2Bof%2Bthe%2BDay_1_2.dealCard.OMU_OV3TV244UTKP_2&amp;otracker1=hp_omu_PINNED_neo%2Fmerchandising_Deals%2Bof%2Bthe%2BDay_NA_dealCard_cc_1_NA_view-all_2&amp;fm=organic&amp;iid=4e93eace-b815-48b0-8ee4-8028ebcb5673.ACCEZB5QGQBDWVWD.SEARCH\" rel=\"noopener noreferrer\" target=\"_blank\" title=\"boAt Rockerz 510 Super Extra Bass Bluetooth Headset with Mic\">boAt Rockerz 510 Super Extra Bass Bluetooth Headset wit...</a>"
      ]
     },
     "execution_count": 28,
     "metadata": {},
     "output_type": "execute_result"
    }
   ],
   "source": [
    "a"
   ]
  },
  {
   "cell_type": "code",
   "execution_count": 29,
   "metadata": {},
   "outputs": [
    {
     "data": {
      "text/plain": [
       "'boAt Rockerz 510 Super Extra Bass Bluetooth Headset wit...'"
      ]
     },
     "execution_count": 29,
     "metadata": {},
     "output_type": "execute_result"
    }
   ],
   "source": [
    "a.text"
   ]
  },
  {
   "cell_type": "code",
   "execution_count": null,
   "metadata": {},
   "outputs": [],
   "source": []
  }
 ],
 "metadata": {
  "kernelspec": {
   "display_name": "Python 3",
   "language": "python",
   "name": "python3"
  },
  "language_info": {
   "codemirror_mode": {
    "name": "ipython",
    "version": 3
   },
   "file_extension": ".py",
   "mimetype": "text/x-python",
   "name": "python",
   "nbconvert_exporter": "python",
   "pygments_lexer": "ipython3",
   "version": "3.7.3"
  },
  "widgets": {
   "state": {},
   "version": "1.1.2"
  }
 },
 "nbformat": 4,
 "nbformat_minor": 2
}
