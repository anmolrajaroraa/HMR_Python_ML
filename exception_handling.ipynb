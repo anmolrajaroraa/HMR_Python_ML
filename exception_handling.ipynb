{
 "cells": [
  {
   "cell_type": "markdown",
   "metadata": {},
   "source": [
    "# Exception Handling"
   ]
  },
  {
   "cell_type": "code",
   "execution_count": 1,
   "metadata": {},
   "outputs": [],
   "source": [
    "#try - logic\n",
    "#except - handle exception\n",
    "#else - will run if no exception comes\n",
    "#finally - always runs\n",
    "\n",
    "#types of exceptions\n",
    "#pre-defined - \n",
    "#BaseException\n",
    "  # - ZeroDivisionError\n",
    "  # - ValueError\n",
    "  # - TypeError\n",
    "#user-defined - assert, raise"
   ]
  },
  {
   "cell_type": "code",
   "execution_count": 2,
   "metadata": {},
   "outputs": [],
   "source": [
    "def divide(x,y):\n",
    "    return x/y"
   ]
  },
  {
   "cell_type": "code",
   "execution_count": 14,
   "metadata": {},
   "outputs": [
    {
     "name": "stdout",
     "output_type": "stream",
     "text": [
      "Enter first number : 10\n",
      "Enter second number : '0'\n",
      "Enter only numbers please!\n"
     ]
    }
   ],
   "source": [
    "try:\n",
    "    x = int(input('Enter first number : '))\n",
    "    y = int(input('Enter second number : '))\n",
    "    result = divide(x,y)\n",
    "    print(result)\n",
    "except ZeroDivisionError:\n",
    "    print(\"Cannot divide by zero\")\n",
    "except TypeError:\n",
    "    print(\"Division can be done only on numbers\")\n",
    "except ValueError:\n",
    "    print(\"Enter only numbers please!\")\n",
    "except BaseException:\n",
    "    print(\"Some error occured..\")"
   ]
  },
  {
   "cell_type": "code",
   "execution_count": 30,
   "metadata": {},
   "outputs": [
    {
     "name": "stdout",
     "output_type": "stream",
     "text": [
      "File doesn't exist\n",
      "Going to close the file\n"
     ]
    }
   ],
   "source": [
    "import io\n",
    "import os\n",
    "try:\n",
    "    file = None\n",
    "    path = 'file_1.txt'\n",
    "    file = open(path)\n",
    "    file.write()\n",
    "except FileNotFoundError:\n",
    "    print('File doesn\\'t exist')\n",
    "except io.UnsupportedOperation:\n",
    "    print('Check file mode again!')\n",
    "except BaseException:\n",
    "    print('Some error occured..')\n",
    "finally:\n",
    "    print('Going to close the file')\n",
    "    #if file != None:   \n",
    "     #   file.close()\n",
    "    if os.path.isfile(path):\n",
    "        file.close()"
   ]
  },
  {
   "cell_type": "code",
   "execution_count": 61,
   "metadata": {},
   "outputs": [],
   "source": [
    "def atm():\n",
    "    balance = 10000\n",
    "    print(\"Welcome to ATM\")\n",
    "    pin = int(input(\"Enter PIN : \"))\n",
    "    #if pin != 1234:\n",
    "        #raise ValueError(\"PIN incorrect\")\n",
    "    assert(pin==1234), 'PIN incorrect'\n",
    "    amount = int(input('Enter amount to withdraw : '))\n",
    "    #if amount > balance:\n",
    "        #raise ValueError('Insufficient balance')\n",
    "    assert(amount <= balance), 'Insufficient balance'"
   ]
  },
  {
   "cell_type": "code",
   "execution_count": 62,
   "metadata": {},
   "outputs": [
    {
     "name": "stdout",
     "output_type": "stream",
     "text": [
      "Welcome to ATM\n",
      "Enter PIN : 1234\n",
      "Enter amount to withdraw : 10001\n",
      "Insufficient balance\n"
     ]
    }
   ],
   "source": [
    "try:\n",
    "    atm()\n",
    "except AssertionError as err:\n",
    "    print(err)\n",
    "except ValueError as err:\n",
    "    print(err)\n",
    "except BaseException:\n",
    "    print('Some error occured..')\n",
    "else:\n",
    "    print('Thanks for visiting us!')"
   ]
  },
  {
   "cell_type": "code",
   "execution_count": null,
   "metadata": {},
   "outputs": [],
   "source": []
  }
 ],
 "metadata": {
  "kernelspec": {
   "display_name": "Python 3",
   "language": "python",
   "name": "python3"
  },
  "language_info": {
   "codemirror_mode": {
    "name": "ipython",
    "version": 3
   },
   "file_extension": ".py",
   "mimetype": "text/x-python",
   "name": "python",
   "nbconvert_exporter": "python",
   "pygments_lexer": "ipython3",
   "version": "3.7.3"
  }
 },
 "nbformat": 4,
 "nbformat_minor": 2
}
