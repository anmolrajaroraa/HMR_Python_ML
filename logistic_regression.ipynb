{
 "cells": [
  {
   "cell_type": "code",
   "execution_count": 276,
   "metadata": {},
   "outputs": [],
   "source": [
    "import numpy as np\n",
    "import pandas as pd\n",
    "import random\n",
    "import copy\n",
    "import math"
   ]
  },
  {
   "cell_type": "code",
   "execution_count": 277,
   "metadata": {},
   "outputs": [],
   "source": [
    "def readData():\n",
    "    dataset = pd.read_csv('pima-indians-diabetes.data.csv')\n",
    "    return dataset"
   ]
  },
  {
   "cell_type": "code",
   "execution_count": 278,
   "metadata": {},
   "outputs": [],
   "source": [
    "def normalizeData(data,minMaxData):\n",
    "    for row in data:\n",
    "        for i in range(len(row) - 1):\n",
    "            numer = row[i] - minMaxData[i][0]\n",
    "            denom = minMaxData[i][1] - minMaxData[i][0]\n",
    "            row[i] = numer / denom"
   ]
  },
  {
   "cell_type": "code",
   "execution_count": 296,
   "metadata": {},
   "outputs": [],
   "source": [
    "def minMax(dataset):\n",
    "    minMaxData = []\n",
    "    columns = dataset.columns\n",
    "    for i in range(len(columns) - 1):\n",
    "        col = dataset[columns[i]]\n",
    "        #print(columns[i])\n",
    "        minValue = min(col)\n",
    "        maxValue = max(col)\n",
    "        minMaxData.append([minValue,maxValue])\n",
    "    return minMaxData"
   ]
  },
  {
   "cell_type": "code",
   "execution_count": 297,
   "metadata": {},
   "outputs": [],
   "source": [
    "def crossValidation(data,k=5):\n",
    "    dataCopy = list(copy.deepcopy(data))\n",
    "    folds = []\n",
    "    foldLength = len(dataCopy) // k\n",
    "    for i in range(k):\n",
    "        fold = []\n",
    "        while(len(fold) < foldLength):\n",
    "            index = random.randrange(len(dataCopy))\n",
    "            fold.append(dataCopy.pop(index))\n",
    "        folds.append(fold)\n",
    "    #print(folds[0][0])\n",
    "    return folds"
   ]
  },
  {
   "cell_type": "code",
   "execution_count": 298,
   "metadata": {},
   "outputs": [],
   "source": [
    "#coef = weights = slopes & intercept\n",
    "def predict(row,coef):\n",
    "    y_pred = coef[0]\n",
    "    #print(y_pred)\n",
    "    for i in range(len(row) - 1):\n",
    "        y_pred = y_pred + coef[i+1] * row[i]\n",
    "        #print(y_pred)\n",
    "    return 1 / (1 + math.exp(-y_pred))"
   ]
  },
  {
   "cell_type": "code",
   "execution_count": 299,
   "metadata": {},
   "outputs": [],
   "source": [
    "def accuracyScore(actual,pred):\n",
    "    score = 0\n",
    "    for i in range(len(actual)):\n",
    "        if actual[i] == pred[i]:\n",
    "            score += 1\n",
    "    return score / len(actual) * 100"
   ]
  },
  {
   "cell_type": "code",
   "execution_count": 300,
   "metadata": {},
   "outputs": [],
   "source": [
    "def stochasticGradient(data,epochs,learning_rate):\n",
    "    newData = []\n",
    "    for fold in data:\n",
    "        newData.extend(fold)\n",
    "    #print(len(newData))\n",
    "    coef = np.zeros(len(newData[0]))\n",
    "    #print('Coef is',coef)\n",
    "    for epoch in range(epochs):\n",
    "        index = random.randrange(len(newData))\n",
    "        #print(index)\n",
    "        row = newData[index]\n",
    "        #print(row)\n",
    "        y_pred = predict(row,coef)\n",
    "        #print(y_pred)\n",
    "        loss = y_pred - row[-1]\n",
    "        #print(loss)\n",
    "        coef[0] = coef[0] - learning_rate * loss\n",
    "        for i in range(len(row) - 1):\n",
    "            coef[i+1] = coef[i+1] - learning_rate * loss * row[i]\n",
    "        #print(coef)\n",
    "    return coef"
   ]
  },
  {
   "cell_type": "code",
   "execution_count": 301,
   "metadata": {},
   "outputs": [],
   "source": [
    "def logisticRegression(train,test,epochs,learning_rate):\n",
    "    coef = stochasticGradient(train,epochs,learning_rate)\n",
    "    predictions = []\n",
    "    for row in test:\n",
    "        y_pred = predict(row,coef)\n",
    "        #print(y_pred)\n",
    "        predictions.append(round(y_pred))\n",
    "    #print(predictions)\n",
    "    return predictions"
   ]
  },
  {
   "cell_type": "code",
   "execution_count": 302,
   "metadata": {},
   "outputs": [],
   "source": [
    "def evaluateAlgorithm(data,epochs,learning_rate):\n",
    "    folds = crossValidation(data)\n",
    "    scores = []\n",
    "    for i in range(len(folds)):\n",
    "        foldsCopy = copy.deepcopy(folds)\n",
    "        #print(len(foldsCopy))\n",
    "        foldsCopy.pop(i)\n",
    "        #print(len(foldsCopy))\n",
    "        test = []\n",
    "        for row in folds[i]:\n",
    "            rowCopy = copy.deepcopy(row)\n",
    "            #print(len(rowCopy))\n",
    "            #rowCopy[-1] = None\n",
    "            test.append(rowCopy)\n",
    "        #print(len(test))\n",
    "        #print((np.array(test)).shape)\n",
    "        predictions = logisticRegression(foldsCopy,test,epochs,learning_rate)\n",
    "        actual = [row[-1] for row in folds[i]]\n",
    "        #print(actual)\n",
    "        score = accuracyScore(actual,predictions)\n",
    "        scores.append(score)\n",
    "    return scores"
   ]
  },
  {
   "cell_type": "code",
   "execution_count": 303,
   "metadata": {},
   "outputs": [],
   "source": [
    "dataset = readData()"
   ]
  },
  {
   "cell_type": "code",
   "execution_count": 304,
   "metadata": {},
   "outputs": [],
   "source": [
    "data = np.array(dataset)"
   ]
  },
  {
   "cell_type": "code",
   "execution_count": 305,
   "metadata": {},
   "outputs": [
    {
     "data": {
      "text/plain": [
       "(768, 9)"
      ]
     },
     "execution_count": 305,
     "metadata": {},
     "output_type": "execute_result"
    }
   ],
   "source": [
    "data.shape"
   ]
  },
  {
   "cell_type": "code",
   "execution_count": 306,
   "metadata": {},
   "outputs": [],
   "source": [
    "minMaxData = minMax(dataset)"
   ]
  },
  {
   "cell_type": "code",
   "execution_count": 307,
   "metadata": {},
   "outputs": [
    {
     "data": {
      "text/plain": [
       "[[0, 17],\n",
       " [0, 199],\n",
       " [0, 122],\n",
       " [0, 99],\n",
       " [0, 846],\n",
       " [0.0, 67.1],\n",
       " [0.078, 2.42],\n",
       " [21, 81]]"
      ]
     },
     "execution_count": 307,
     "metadata": {},
     "output_type": "execute_result"
    }
   ],
   "source": [
    "minMaxData"
   ]
  },
  {
   "cell_type": "code",
   "execution_count": 308,
   "metadata": {},
   "outputs": [],
   "source": [
    "normalizeData(data,minMaxData)"
   ]
  },
  {
   "cell_type": "code",
   "execution_count": 309,
   "metadata": {
    "scrolled": true
   },
   "outputs": [
    {
     "data": {
      "text/plain": [
       "array([[0.35294118, 0.74371859, 0.59016393, ..., 0.23441503, 0.48333333,\n",
       "        1.        ],\n",
       "       [0.05882353, 0.42713568, 0.54098361, ..., 0.11656704, 0.16666667,\n",
       "        0.        ],\n",
       "       [0.47058824, 0.91959799, 0.52459016, ..., 0.25362938, 0.18333333,\n",
       "        1.        ],\n",
       "       ...,\n",
       "       [0.29411765, 0.6080402 , 0.59016393, ..., 0.07130658, 0.15      ,\n",
       "        0.        ],\n",
       "       [0.05882353, 0.63316583, 0.49180328, ..., 0.11571307, 0.43333333,\n",
       "        1.        ],\n",
       "       [0.05882353, 0.46733668, 0.57377049, ..., 0.10119556, 0.03333333,\n",
       "        0.        ]])"
      ]
     },
     "execution_count": 309,
     "metadata": {},
     "output_type": "execute_result"
    }
   ],
   "source": [
    "data"
   ]
  },
  {
   "cell_type": "code",
   "execution_count": 310,
   "metadata": {},
   "outputs": [],
   "source": [
    "epochs = 1000\n",
    "learning_rate = 0.001\n",
    "scores = evaluateAlgorithm(data,epochs,learning_rate)\n",
    "accuracy = sum(scores) / len(scores)"
   ]
  },
  {
   "cell_type": "code",
   "execution_count": 311,
   "metadata": {},
   "outputs": [
    {
     "data": {
      "text/plain": [
       "64.9673202614379"
      ]
     },
     "execution_count": 311,
     "metadata": {},
     "output_type": "execute_result"
    }
   ],
   "source": [
    "accuracy"
   ]
  },
  {
   "cell_type": "code",
   "execution_count": null,
   "metadata": {},
   "outputs": [],
   "source": []
  },
  {
   "cell_type": "code",
   "execution_count": null,
   "metadata": {},
   "outputs": [],
   "source": []
  }
 ],
 "metadata": {
  "kernelspec": {
   "display_name": "Python 3",
   "language": "python",
   "name": "python3"
  },
  "language_info": {
   "codemirror_mode": {
    "name": "ipython",
    "version": 3
   },
   "file_extension": ".py",
   "mimetype": "text/x-python",
   "name": "python",
   "nbconvert_exporter": "python",
   "pygments_lexer": "ipython3",
   "version": "3.7.3"
  }
 },
 "nbformat": 4,
 "nbformat_minor": 2
}
