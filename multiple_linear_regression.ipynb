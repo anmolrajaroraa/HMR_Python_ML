{
 "cells": [
  {
   "cell_type": "markdown",
   "metadata": {},
   "source": [
    "# Multiple Linear Regression"
   ]
  },
  {
   "cell_type": "code",
   "execution_count": 260,
   "metadata": {},
   "outputs": [],
   "source": [
    "import pandas as pd\n",
    "import numpy as np\n",
    "import matplotlib.pyplot as plot"
   ]
  },
  {
   "cell_type": "code",
   "execution_count": 261,
   "metadata": {},
   "outputs": [],
   "source": [
    "dataset = pd.read_csv('SaratogaHouses.csv')"
   ]
  },
  {
   "cell_type": "code",
   "execution_count": 262,
   "metadata": {},
   "outputs": [
    {
     "data": {
      "text/html": [
       "<div>\n",
       "<style scoped>\n",
       "    .dataframe tbody tr th:only-of-type {\n",
       "        vertical-align: middle;\n",
       "    }\n",
       "\n",
       "    .dataframe tbody tr th {\n",
       "        vertical-align: top;\n",
       "    }\n",
       "\n",
       "    .dataframe thead th {\n",
       "        text-align: right;\n",
       "    }\n",
       "</style>\n",
       "<table border=\"1\" class=\"dataframe\">\n",
       "  <thead>\n",
       "    <tr style=\"text-align: right;\">\n",
       "      <th></th>\n",
       "      <th>Unnamed: 0</th>\n",
       "      <th>price</th>\n",
       "      <th>lotSize</th>\n",
       "      <th>age</th>\n",
       "      <th>landValue</th>\n",
       "      <th>livingArea</th>\n",
       "      <th>pctCollege</th>\n",
       "      <th>bedrooms</th>\n",
       "      <th>fireplaces</th>\n",
       "      <th>bathrooms</th>\n",
       "      <th>rooms</th>\n",
       "      <th>heating</th>\n",
       "      <th>fuel</th>\n",
       "      <th>sewer</th>\n",
       "      <th>waterfront</th>\n",
       "      <th>newConstruction</th>\n",
       "      <th>centralAir</th>\n",
       "    </tr>\n",
       "  </thead>\n",
       "  <tbody>\n",
       "    <tr>\n",
       "      <th>0</th>\n",
       "      <td>1</td>\n",
       "      <td>132500</td>\n",
       "      <td>0.09</td>\n",
       "      <td>42</td>\n",
       "      <td>50000</td>\n",
       "      <td>906</td>\n",
       "      <td>35</td>\n",
       "      <td>2</td>\n",
       "      <td>1</td>\n",
       "      <td>1.0</td>\n",
       "      <td>5</td>\n",
       "      <td>electric</td>\n",
       "      <td>electric</td>\n",
       "      <td>septic</td>\n",
       "      <td>No</td>\n",
       "      <td>No</td>\n",
       "      <td>No</td>\n",
       "    </tr>\n",
       "    <tr>\n",
       "      <th>1</th>\n",
       "      <td>2</td>\n",
       "      <td>181115</td>\n",
       "      <td>0.92</td>\n",
       "      <td>0</td>\n",
       "      <td>22300</td>\n",
       "      <td>1953</td>\n",
       "      <td>51</td>\n",
       "      <td>3</td>\n",
       "      <td>0</td>\n",
       "      <td>2.5</td>\n",
       "      <td>6</td>\n",
       "      <td>hot water/steam</td>\n",
       "      <td>gas</td>\n",
       "      <td>septic</td>\n",
       "      <td>No</td>\n",
       "      <td>No</td>\n",
       "      <td>No</td>\n",
       "    </tr>\n",
       "    <tr>\n",
       "      <th>2</th>\n",
       "      <td>3</td>\n",
       "      <td>109000</td>\n",
       "      <td>0.19</td>\n",
       "      <td>133</td>\n",
       "      <td>7300</td>\n",
       "      <td>1944</td>\n",
       "      <td>51</td>\n",
       "      <td>4</td>\n",
       "      <td>1</td>\n",
       "      <td>1.0</td>\n",
       "      <td>8</td>\n",
       "      <td>hot water/steam</td>\n",
       "      <td>gas</td>\n",
       "      <td>public/commercial</td>\n",
       "      <td>No</td>\n",
       "      <td>No</td>\n",
       "      <td>No</td>\n",
       "    </tr>\n",
       "    <tr>\n",
       "      <th>3</th>\n",
       "      <td>4</td>\n",
       "      <td>155000</td>\n",
       "      <td>0.41</td>\n",
       "      <td>13</td>\n",
       "      <td>18700</td>\n",
       "      <td>1944</td>\n",
       "      <td>51</td>\n",
       "      <td>3</td>\n",
       "      <td>1</td>\n",
       "      <td>1.5</td>\n",
       "      <td>5</td>\n",
       "      <td>hot air</td>\n",
       "      <td>gas</td>\n",
       "      <td>septic</td>\n",
       "      <td>No</td>\n",
       "      <td>No</td>\n",
       "      <td>No</td>\n",
       "    </tr>\n",
       "    <tr>\n",
       "      <th>4</th>\n",
       "      <td>5</td>\n",
       "      <td>86060</td>\n",
       "      <td>0.11</td>\n",
       "      <td>0</td>\n",
       "      <td>15000</td>\n",
       "      <td>840</td>\n",
       "      <td>51</td>\n",
       "      <td>2</td>\n",
       "      <td>0</td>\n",
       "      <td>1.0</td>\n",
       "      <td>3</td>\n",
       "      <td>hot air</td>\n",
       "      <td>gas</td>\n",
       "      <td>public/commercial</td>\n",
       "      <td>No</td>\n",
       "      <td>Yes</td>\n",
       "      <td>Yes</td>\n",
       "    </tr>\n",
       "  </tbody>\n",
       "</table>\n",
       "</div>"
      ],
      "text/plain": [
       "   Unnamed: 0   price  lotSize  age  landValue  livingArea  pctCollege  \\\n",
       "0           1  132500     0.09   42      50000         906          35   \n",
       "1           2  181115     0.92    0      22300        1953          51   \n",
       "2           3  109000     0.19  133       7300        1944          51   \n",
       "3           4  155000     0.41   13      18700        1944          51   \n",
       "4           5   86060     0.11    0      15000         840          51   \n",
       "\n",
       "   bedrooms  fireplaces  bathrooms  rooms          heating      fuel  \\\n",
       "0         2           1        1.0      5         electric  electric   \n",
       "1         3           0        2.5      6  hot water/steam       gas   \n",
       "2         4           1        1.0      8  hot water/steam       gas   \n",
       "3         3           1        1.5      5          hot air       gas   \n",
       "4         2           0        1.0      3          hot air       gas   \n",
       "\n",
       "               sewer waterfront newConstruction centralAir  \n",
       "0             septic         No              No         No  \n",
       "1             septic         No              No         No  \n",
       "2  public/commercial         No              No         No  \n",
       "3             septic         No              No         No  \n",
       "4  public/commercial         No             Yes        Yes  "
      ]
     },
     "execution_count": 262,
     "metadata": {},
     "output_type": "execute_result"
    }
   ],
   "source": [
    "dataset.head()"
   ]
  },
  {
   "cell_type": "code",
   "execution_count": 263,
   "metadata": {},
   "outputs": [],
   "source": [
    "x = dataset[['livingArea', 'landValue',\n",
    "             'rooms', 'centralAir']].values\n",
    "y = dataset['price'].values"
   ]
  },
  {
   "cell_type": "code",
   "execution_count": 264,
   "metadata": {},
   "outputs": [
    {
     "data": {
      "text/plain": [
       "array([[906, 50000, 5, 'No'],\n",
       "       [1953, 22300, 6, 'No'],\n",
       "       [1944, 7300, 8, 'No'],\n",
       "       ...,\n",
       "       [1099, 20400, 3, 'No'],\n",
       "       [1225, 16800, 7, 'No'],\n",
       "       [1959, 26000, 6, 'No']], dtype=object)"
      ]
     },
     "execution_count": 264,
     "metadata": {},
     "output_type": "execute_result"
    }
   ],
   "source": [
    "x"
   ]
  },
  {
   "cell_type": "code",
   "execution_count": 265,
   "metadata": {},
   "outputs": [
    {
     "data": {
      "text/plain": [
       "array(['No', 'No', 'No', ..., 'No', 'No', 'No'], dtype=object)"
      ]
     },
     "execution_count": 265,
     "metadata": {},
     "output_type": "execute_result"
    }
   ],
   "source": [
    "#centralAir has text values. We need to encode it in numerical form\n",
    "x[:,-1]"
   ]
  },
  {
   "cell_type": "code",
   "execution_count": 266,
   "metadata": {},
   "outputs": [],
   "source": [
    "from sklearn.preprocessing import LabelEncoder"
   ]
  },
  {
   "cell_type": "code",
   "execution_count": 267,
   "metadata": {},
   "outputs": [],
   "source": [
    "encoder = LabelEncoder()"
   ]
  },
  {
   "cell_type": "code",
   "execution_count": 268,
   "metadata": {},
   "outputs": [],
   "source": [
    "#x[:,-1] means last column of all rows , i.e ,centralAir column\n",
    "x[:,-1] = encoder.fit_transform(x[:,-1])"
   ]
  },
  {
   "cell_type": "code",
   "execution_count": 269,
   "metadata": {},
   "outputs": [
    {
     "data": {
      "text/plain": [
       "array([0, 0, 0, 0, 1], dtype=object)"
      ]
     },
     "execution_count": 269,
     "metadata": {},
     "output_type": "execute_result"
    }
   ],
   "source": [
    "#encoding has been done, first four values were 'no' - they have been converted to 0 and 5th value was 'yes' which\n",
    "#has been converted to 1\n",
    "x[:,-1][:5]"
   ]
  },
  {
   "cell_type": "code",
   "execution_count": 270,
   "metadata": {},
   "outputs": [],
   "source": [
    "#now we need to scale our data so that all the values are in same range and are very small in value\n",
    "#currently our data is not in same range\n",
    "#price is in lakhs whereas rooms range from 1-12\n",
    "from sklearn.preprocessing import StandardScaler"
   ]
  },
  {
   "cell_type": "code",
   "execution_count": 271,
   "metadata": {},
   "outputs": [],
   "source": [
    "std = StandardScaler()"
   ]
  },
  {
   "cell_type": "code",
   "execution_count": 272,
   "metadata": {},
   "outputs": [],
   "source": [
    "x = std.fit_transform(x)"
   ]
  },
  {
   "cell_type": "code",
   "execution_count": 273,
   "metadata": {},
   "outputs": [],
   "source": [
    "y = y.reshape(-1,1)\n",
    "y = std.fit_transform(y)"
   ]
  },
  {
   "cell_type": "code",
   "execution_count": 274,
   "metadata": {},
   "outputs": [
    {
     "data": {
      "text/plain": [
       "array([[-1.36985441,  0.44108417, -0.88163155, -0.76221375],\n",
       "       [ 0.31951971, -0.350095  , -0.44981202, -0.76221375]])"
      ]
     },
     "execution_count": 274,
     "metadata": {},
     "output_type": "execute_result"
    }
   ],
   "source": [
    "#all the 4 columns - livingArea, landValue, rooms, centralAir are in same range now and very small in value\n",
    "x[:2]"
   ]
  },
  {
   "cell_type": "code",
   "execution_count": 275,
   "metadata": {},
   "outputs": [
    {
     "data": {
      "text/plain": [
       "array([[-0.80748259],\n",
       "       [-0.31349249]])"
      ]
     },
     "execution_count": 275,
     "metadata": {},
     "output_type": "execute_result"
    }
   ],
   "source": [
    "#price also has been scaled\n",
    "y[:2]"
   ]
  },
  {
   "cell_type": "code",
   "execution_count": 276,
   "metadata": {},
   "outputs": [
    {
     "data": {
      "text/plain": [
       "(1728, 4)"
      ]
     },
     "execution_count": 276,
     "metadata": {},
     "output_type": "execute_result"
    }
   ],
   "source": [
    "#y = b0 + b1x1 + b2x2 + b3x3 + b4x4\n",
    "#this is the equation that we are using\n",
    "#let x0 = 1 or [1,1,1,1,1,1,....,1,1,1,1], size of x0 depends on the no. of rows of our data\n",
    "#y = b0x0 + b1x1 + b2x2 + b3x3 + b4x4\n",
    "#here we can see the shape of our data\n",
    "#it has some 1700 rows, we are going to use the value at 0th index of this tuple - 1728 to create our array of x0\n",
    "x.shape"
   ]
  },
  {
   "cell_type": "code",
   "execution_count": 277,
   "metadata": {},
   "outputs": [],
   "source": [
    "#creating x0 by using the no. of rows of x\n",
    "x0 = np.ones(x.shape[0])"
   ]
  },
  {
   "cell_type": "code",
   "execution_count": 278,
   "metadata": {},
   "outputs": [
    {
     "data": {
      "text/plain": [
       "1728"
      ]
     },
     "execution_count": 278,
     "metadata": {},
     "output_type": "execute_result"
    }
   ],
   "source": [
    "len(x0)"
   ]
  },
  {
   "cell_type": "code",
   "execution_count": 279,
   "metadata": {},
   "outputs": [],
   "source": [
    "#since we cant prepend x0 into our x which is a 2D array\n",
    "#we need to bulid a new 2D array\n",
    "#first we place x0 array that we created in the above step\n",
    "#then we bring the first column from x (x1) and place it after x0\n",
    "#then we bring the first column from x (x2) and place it after x1 and so on\n",
    "#x[:,0] means livingArea column from our data\n",
    "#x[:,1] means landValue column from our data\n",
    "newX = np.array([x0, x[:,0], x[:,1], x[:,2], x[:,3]])"
   ]
  },
  {
   "cell_type": "code",
   "execution_count": 280,
   "metadata": {},
   "outputs": [
    {
     "data": {
      "text/plain": [
       "array([[ 1.        ,  1.        ,  1.        , ...,  1.        ,\n",
       "         1.        ,  1.        ],\n",
       "       [-1.36985441,  0.31951971,  0.30499787, ..., -1.05844161,\n",
       "        -0.85513584,  0.32920094],\n",
       "       [ 0.44108417, -0.350095  , -0.77853137, ..., -0.4043636 ,\n",
       "        -0.50718833, -0.24441402],\n",
       "       [-0.88163155, -0.44981202,  0.41382706, ..., -1.74527063,\n",
       "        -0.01799248, -0.44981202],\n",
       "       [-0.76221375, -0.76221375, -0.76221375, ..., -0.76221375,\n",
       "        -0.76221375, -0.76221375]])"
      ]
     },
     "execution_count": 280,
     "metadata": {},
     "output_type": "execute_result"
    }
   ],
   "source": [
    "# But now if you will look at our new data it's looking very weird\n",
    "#We need to transpose it so that each row contains our features and not all the values of one feature\n",
    "#for more clarity check how x was looking at the starting\n",
    "newX"
   ]
  },
  {
   "cell_type": "code",
   "execution_count": 281,
   "metadata": {},
   "outputs": [],
   "source": [
    "#transpose x and store its state back in same variable\n",
    "newX = newX.T"
   ]
  },
  {
   "cell_type": "code",
   "execution_count": 282,
   "metadata": {},
   "outputs": [
    {
     "data": {
      "text/plain": [
       "array([[ 1.        , -1.36985441,  0.44108417, -0.88163155, -0.76221375],\n",
       "       [ 1.        ,  0.31951971, -0.350095  , -0.44981202, -0.76221375],\n",
       "       [ 1.        ,  0.30499787, -0.77853137,  0.41382706, -0.76221375],\n",
       "       [ 1.        ,  0.30499787, -0.45291972, -0.88163155, -0.76221375],\n",
       "       [ 1.        , -1.47634791, -0.5586007 , -1.74527063,  1.31196793]])"
      ]
     },
     "execution_count": 282,
     "metadata": {},
     "output_type": "execute_result"
    }
   ],
   "source": [
    "#now our data is looking fit for regression analysis - scaling done, encoding done\n",
    "newX[:5]"
   ]
  },
  {
   "cell_type": "code",
   "execution_count": 283,
   "metadata": {},
   "outputs": [
    {
     "data": {
      "text/plain": [
       "(1728, 5)"
      ]
     },
     "execution_count": 283,
     "metadata": {},
     "output_type": "execute_result"
    }
   ],
   "source": [
    "newX.shape"
   ]
  },
  {
   "cell_type": "code",
   "execution_count": 284,
   "metadata": {},
   "outputs": [],
   "source": [
    "#only thing that remains is that we dont know the slopes or better known as weights\n",
    "#so we create an array with weights equal to zero\n",
    "#the size of this weights array should be one more than the no of features we have because we have an extra column- x0\n",
    "#the size of this array can be directly extracted from the shape of the newly created x - newX, see the above line\n",
    "B = np.zeros(newX.shape[1])"
   ]
  },
  {
   "cell_type": "code",
   "execution_count": 285,
   "metadata": {},
   "outputs": [
    {
     "data": {
      "text/plain": [
       "array([0., 0., 0., 0., 0.])"
      ]
     },
     "execution_count": 285,
     "metadata": {},
     "output_type": "execute_result"
    }
   ],
   "source": [
    "B"
   ]
  },
  {
   "cell_type": "markdown",
   "metadata": {},
   "source": [
    "# Gradient Descent of One Half Mean Squared Error"
   ]
  },
  {
   "cell_type": "code",
   "execution_count": null,
   "metadata": {},
   "outputs": [],
   "source": []
  },
  {
   "cell_type": "code",
   "execution_count": null,
   "metadata": {},
   "outputs": [],
   "source": []
  },
  {
   "cell_type": "code",
   "execution_count": 286,
   "metadata": {},
   "outputs": [],
   "source": [
    "#go and check out gradient descent function first\n",
    "def cost_function(x,y,B):\n",
    "    return np.sum((newX.dot(B) - y) ** 2) / (2*n)\n",
    "#cost(J)/one half mean squared error = (1/2n) * summation_of((y_cap - y)**2)\n",
    "#where y_cap = B.X"
   ]
  },
  {
   "cell_type": "code",
   "execution_count": 287,
   "metadata": {},
   "outputs": [],
   "source": [
    "#in gradient_descent, we calculate weights and change them for epoch no of times (weights means B0,B1,B2,B3,B4)\n",
    "#Formula for doing so is -> B = B - alpha * ( (1/n) * ( y_cap - y) . X )\n",
    "# where alpha is learning rate or step for changing the slope on each iteration\n",
    "#we start by creating a function which will accept our data (x and y), weights (B), epochs (how many times loop\n",
    "#should run) and learning rate\n",
    "def gradient_descent(x,y,B,epochs,learning_rate):\n",
    "    cost_history = []\n",
    "    #we create a loop in range of epochs\n",
    "    for epoch in range(epochs):\n",
    "        #our first step is to calculate y_cap or y_prediction\n",
    "        #that thing we have already studied that y = b0x0 + b1x1 + b2x2 + b3x3 + b4x4 can be reduced to\n",
    "        #y = B.X -> so we are going to use this eqn\n",
    "        #we cannot perform B.X, we have to perform X.B because X has shape (1728,5) and B has (5,)\n",
    "        #the resultant y_pred will have a shape (1728,)\n",
    "        #on first iteration B is [0,0,0,0,0] so all the values in y_pred will also be zero\n",
    "        #but from next iteration things will change because B will not be [0,0,0,0,0] anymore\n",
    "        y_pred = x.dot(B)\n",
    "        #now we have to calculate loss, i.e., diff b/w prediction and actual value\n",
    "        #since y_pred is 1D and has shape (1728,)\n",
    "        #we need y to be also 1D which is not the case\n",
    "        #while performing feature scaling (standardization), we converted y into 2D and has shape (1728,1)\n",
    "        #so while calling gradient_descent(), we will use flatten() which converts 2D array having only column\n",
    "        #back into a 1D array\n",
    "        loss = y_pred - y\n",
    "        #next step is to calculate gradient which is going to alter our weights for each epoch\n",
    "        #we have calculated (y_cap - y) already\n",
    "        #we just need to dot product it with X and divide it by n\n",
    "        #again the shapes are different so it's difficult to perform dot product\n",
    "        # x has shape (1728,5) whereas loss has shape (1728,)\n",
    "        # so we need to transpose x so that dot product can be done b/w x (5,1728) and loss (1728,)\n",
    "        # resultant value will be of shape (5,) and we will divide it by n\n",
    "        #gradient also has a final shape (5,)\n",
    "        gradient = x.T.dot(loss) / n\n",
    "        #now we need to use learning rate and gradient to modify our weights\n",
    "        #B has shape(5,) and gradient has shape(5,) , so we have no problems in performing this step\n",
    "        B = B - learning_rate * gradient\n",
    "        #now we need to calculate cost according to the new weights so we are going to pass our data and weights to \n",
    "        #cost_function() and we are going to get back the cost via return statement\n",
    "        cost = cost_function(x,y,B)\n",
    "        #we will store all the values of cost in a list so that we can plot a graph later on\n",
    "        cost_history.append(cost)\n",
    "    #return list of cost_history for plotting purposes and B for finding the new errors based on the latest weights\n",
    "    #that is going to give us more accuracy hopefully ;)\n",
    "    return cost_history, B"
   ]
  },
  {
   "cell_type": "code",
   "execution_count": 288,
   "metadata": {},
   "outputs": [],
   "source": [
    "cost_history, B = gradient_descent(newX, y.flatten(), B ,epochs=5000, learning_rate=0.001)"
   ]
  },
  {
   "cell_type": "code",
   "execution_count": 289,
   "metadata": {},
   "outputs": [
    {
     "data": {
      "image/png": "[encoded data removed]",
      "text/plain": [
       "<Figure size 432x288 with 1 Axes>"
      ]
     },
     "metadata": {
      "needs_background": "light"
     },
     "output_type": "display_data"
    }
   ],
   "source": [
    "a = plot.plot(cost_history)"
   ]
  },
  {
   "cell_type": "code",
   "execution_count": 290,
   "metadata": {},
   "outputs": [],
   "source": [
    "#calculate predictions,mse and rmse again with the latest weights to get somewhat less errors\n",
    "y_pred = newX.dot(B)"
   ]
  },
  {
   "cell_type": "code",
   "execution_count": 291,
   "metadata": {},
   "outputs": [],
   "source": [
    "from sklearn.metrics import mean_squared_error"
   ]
  },
  {
   "cell_type": "code",
   "execution_count": 292,
   "metadata": {},
   "outputs": [],
   "source": [
    "mse = mean_squared_error(y_pred,y)"
   ]
  },
  {
   "cell_type": "code",
   "execution_count": 293,
   "metadata": {},
   "outputs": [],
   "source": [
    "rmse = np.sqrt(mse)"
   ]
  },
  {
   "cell_type": "code",
   "execution_count": 294,
   "metadata": {},
   "outputs": [
    {
     "data": {
      "text/plain": [
       "(0.3901616680301511, 0.6246292244445109)"
      ]
     },
     "execution_count": 294,
     "metadata": {},
     "output_type": "execute_result"
    }
   ],
   "source": [
    "mse,rmse"
   ]
  }
 ],
 "metadata": {
  "kernelspec": {
   "display_name": "Python 3",
   "language": "python",
   "name": "python3"
  },
  "language_info": {
   "codemirror_mode": {
    "name": "ipython",
    "version": 3
   },
   "file_extension": ".py",
   "mimetype": "text/x-python",
   "name": "python",
   "nbconvert_exporter": "python",
   "pygments_lexer": "ipython3",
   "version": "3.7.3"
  }
 },
 "nbformat": 4,
 "nbformat_minor": 2
}
